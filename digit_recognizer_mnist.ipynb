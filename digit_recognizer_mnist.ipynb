{
 "cells": [
  {
   "cell_type": "code",
   "execution_count": 1,
   "id": "1e1bebeb",
   "metadata": {
    "execution": {
     "iopub.execute_input": "2022-11-14T20:11:01.362617Z",
     "iopub.status.busy": "2022-11-14T20:11:01.361885Z",
     "iopub.status.idle": "2022-11-14T20:11:01.379087Z",
     "shell.execute_reply": "2022-11-14T20:11:01.378064Z"
    },
    "papermill": {
     "duration": 0.026918,
     "end_time": "2022-11-14T20:11:01.382057",
     "exception": false,
     "start_time": "2022-11-14T20:11:01.355139",
     "status": "completed"
    },
    "tags": []
   },
   "outputs": [],
   "source": [
    "import numpy as np\n",
    "import pandas as pd\n",
    "from matplotlib import pyplot as plt"
   ]
  },
  {
   "cell_type": "code",
   "execution_count": 2,
   "id": "0bc24873",
   "metadata": {
    "execution": {
     "iopub.execute_input": "2022-11-14T20:11:01.392838Z",
     "iopub.status.busy": "2022-11-14T20:11:01.391908Z",
     "iopub.status.idle": "2022-11-14T20:11:05.641939Z",
     "shell.execute_reply": "2022-11-14T20:11:05.640597Z"
    },
    "papermill": {
     "duration": 4.258599,
     "end_time": "2022-11-14T20:11:05.644999",
     "exception": false,
     "start_time": "2022-11-14T20:11:01.386400",
     "status": "completed"
    },
    "tags": []
   },
   "outputs": [],
   "source": [
    "data = pd.read_csv('/kaggle/input/digit-recognizer/train.csv')"
   ]
  },
  {
   "cell_type": "code",
   "execution_count": 3,
   "id": "66307c0d",
   "metadata": {
    "execution": {
     "iopub.execute_input": "2022-11-14T20:11:05.655575Z",
     "iopub.status.busy": "2022-11-14T20:11:05.655028Z",
     "iopub.status.idle": "2022-11-14T20:11:05.692493Z",
     "shell.execute_reply": "2022-11-14T20:11:05.690896Z"
    },
    "papermill": {
     "duration": 0.046039,
     "end_time": "2022-11-14T20:11:05.695254",
     "exception": false,
     "start_time": "2022-11-14T20:11:05.649215",
     "status": "completed"
    },
    "tags": []
   },
   "outputs": [
    {
     "data": {
      "text/html": [
       "<div>\n",
       "<style scoped>\n",
       "    .dataframe tbody tr th:only-of-type {\n",
       "        vertical-align: middle;\n",
       "    }\n",
       "\n",
       "    .dataframe tbody tr th {\n",
       "        vertical-align: top;\n",
       "    }\n",
       "\n",
       "    .dataframe thead th {\n",
       "        text-align: right;\n",
       "    }\n",
       "</style>\n",
       "<table border=\"1\" class=\"dataframe\">\n",
       "  <thead>\n",
       "    <tr style=\"text-align: right;\">\n",
       "      <th></th>\n",
       "      <th>label</th>\n",
       "      <th>pixel0</th>\n",
       "      <th>pixel1</th>\n",
       "      <th>pixel2</th>\n",
       "      <th>pixel3</th>\n",
       "      <th>pixel4</th>\n",
       "      <th>pixel5</th>\n",
       "      <th>pixel6</th>\n",
       "      <th>pixel7</th>\n",
       "      <th>pixel8</th>\n",
       "      <th>...</th>\n",
       "      <th>pixel774</th>\n",
       "      <th>pixel775</th>\n",
       "      <th>pixel776</th>\n",
       "      <th>pixel777</th>\n",
       "      <th>pixel778</th>\n",
       "      <th>pixel779</th>\n",
       "      <th>pixel780</th>\n",
       "      <th>pixel781</th>\n",
       "      <th>pixel782</th>\n",
       "      <th>pixel783</th>\n",
       "    </tr>\n",
       "  </thead>\n",
       "  <tbody>\n",
       "    <tr>\n",
       "      <th>0</th>\n",
       "      <td>1</td>\n",
       "      <td>0</td>\n",
       "      <td>0</td>\n",
       "      <td>0</td>\n",
       "      <td>0</td>\n",
       "      <td>0</td>\n",
       "      <td>0</td>\n",
       "      <td>0</td>\n",
       "      <td>0</td>\n",
       "      <td>0</td>\n",
       "      <td>...</td>\n",
       "      <td>0</td>\n",
       "      <td>0</td>\n",
       "      <td>0</td>\n",
       "      <td>0</td>\n",
       "      <td>0</td>\n",
       "      <td>0</td>\n",
       "      <td>0</td>\n",
       "      <td>0</td>\n",
       "      <td>0</td>\n",
       "      <td>0</td>\n",
       "    </tr>\n",
       "    <tr>\n",
       "      <th>1</th>\n",
       "      <td>0</td>\n",
       "      <td>0</td>\n",
       "      <td>0</td>\n",
       "      <td>0</td>\n",
       "      <td>0</td>\n",
       "      <td>0</td>\n",
       "      <td>0</td>\n",
       "      <td>0</td>\n",
       "      <td>0</td>\n",
       "      <td>0</td>\n",
       "      <td>...</td>\n",
       "      <td>0</td>\n",
       "      <td>0</td>\n",
       "      <td>0</td>\n",
       "      <td>0</td>\n",
       "      <td>0</td>\n",
       "      <td>0</td>\n",
       "      <td>0</td>\n",
       "      <td>0</td>\n",
       "      <td>0</td>\n",
       "      <td>0</td>\n",
       "    </tr>\n",
       "    <tr>\n",
       "      <th>2</th>\n",
       "      <td>1</td>\n",
       "      <td>0</td>\n",
       "      <td>0</td>\n",
       "      <td>0</td>\n",
       "      <td>0</td>\n",
       "      <td>0</td>\n",
       "      <td>0</td>\n",
       "      <td>0</td>\n",
       "      <td>0</td>\n",
       "      <td>0</td>\n",
       "      <td>...</td>\n",
       "      <td>0</td>\n",
       "      <td>0</td>\n",
       "      <td>0</td>\n",
       "      <td>0</td>\n",
       "      <td>0</td>\n",
       "      <td>0</td>\n",
       "      <td>0</td>\n",
       "      <td>0</td>\n",
       "      <td>0</td>\n",
       "      <td>0</td>\n",
       "    </tr>\n",
       "    <tr>\n",
       "      <th>3</th>\n",
       "      <td>4</td>\n",
       "      <td>0</td>\n",
       "      <td>0</td>\n",
       "      <td>0</td>\n",
       "      <td>0</td>\n",
       "      <td>0</td>\n",
       "      <td>0</td>\n",
       "      <td>0</td>\n",
       "      <td>0</td>\n",
       "      <td>0</td>\n",
       "      <td>...</td>\n",
       "      <td>0</td>\n",
       "      <td>0</td>\n",
       "      <td>0</td>\n",
       "      <td>0</td>\n",
       "      <td>0</td>\n",
       "      <td>0</td>\n",
       "      <td>0</td>\n",
       "      <td>0</td>\n",
       "      <td>0</td>\n",
       "      <td>0</td>\n",
       "    </tr>\n",
       "    <tr>\n",
       "      <th>4</th>\n",
       "      <td>0</td>\n",
       "      <td>0</td>\n",
       "      <td>0</td>\n",
       "      <td>0</td>\n",
       "      <td>0</td>\n",
       "      <td>0</td>\n",
       "      <td>0</td>\n",
       "      <td>0</td>\n",
       "      <td>0</td>\n",
       "      <td>0</td>\n",
       "      <td>...</td>\n",
       "      <td>0</td>\n",
       "      <td>0</td>\n",
       "      <td>0</td>\n",
       "      <td>0</td>\n",
       "      <td>0</td>\n",
       "      <td>0</td>\n",
       "      <td>0</td>\n",
       "      <td>0</td>\n",
       "      <td>0</td>\n",
       "      <td>0</td>\n",
       "    </tr>\n",
       "  </tbody>\n",
       "</table>\n",
       "<p>5 rows × 785 columns</p>\n",
       "</div>"
      ],
      "text/plain": [
       "   label  pixel0  pixel1  pixel2  pixel3  pixel4  pixel5  pixel6  pixel7  \\\n",
       "0      1       0       0       0       0       0       0       0       0   \n",
       "1      0       0       0       0       0       0       0       0       0   \n",
       "2      1       0       0       0       0       0       0       0       0   \n",
       "3      4       0       0       0       0       0       0       0       0   \n",
       "4      0       0       0       0       0       0       0       0       0   \n",
       "\n",
       "   pixel8  ...  pixel774  pixel775  pixel776  pixel777  pixel778  pixel779  \\\n",
       "0       0  ...         0         0         0         0         0         0   \n",
       "1       0  ...         0         0         0         0         0         0   \n",
       "2       0  ...         0         0         0         0         0         0   \n",
       "3       0  ...         0         0         0         0         0         0   \n",
       "4       0  ...         0         0         0         0         0         0   \n",
       "\n",
       "   pixel780  pixel781  pixel782  pixel783  \n",
       "0         0         0         0         0  \n",
       "1         0         0         0         0  \n",
       "2         0         0         0         0  \n",
       "3         0         0         0         0  \n",
       "4         0         0         0         0  \n",
       "\n",
       "[5 rows x 785 columns]"
      ]
     },
     "execution_count": 3,
     "metadata": {},
     "output_type": "execute_result"
    }
   ],
   "source": [
    "data.head()"
   ]
  },
  {
   "cell_type": "code",
   "execution_count": 4,
   "id": "c22d802e",
   "metadata": {
    "execution": {
     "iopub.execute_input": "2022-11-14T20:11:05.706768Z",
     "iopub.status.busy": "2022-11-14T20:11:05.706318Z",
     "iopub.status.idle": "2022-11-14T20:11:06.542642Z",
     "shell.execute_reply": "2022-11-14T20:11:06.541474Z"
    },
    "papermill": {
     "duration": 0.845668,
     "end_time": "2022-11-14T20:11:06.545660",
     "exception": false,
     "start_time": "2022-11-14T20:11:05.699992",
     "status": "completed"
    },
    "tags": []
   },
   "outputs": [],
   "source": [
    "data = np.array(data)\n",
    "m, n = data.shape\n",
    "np.random.shuffle(data) # shuffle before splitting into dev and training sets\n",
    "\n",
    "data_dev = data[0:1000].T\n",
    "Y_dev = data_dev[0]\n",
    "X_dev = data_dev[1:n]\n",
    "X_dev = X_dev / 255.\n",
    "\n",
    "data_train = data[1000:m].T\n",
    "Y_train = data_train[0]\n",
    "X_train = data_train[1:n]\n",
    "X_train = X_train / 255.\n",
    "_,m_train = X_train.shape"
   ]
  },
  {
   "cell_type": "code",
   "execution_count": 5,
   "id": "507f9b6d",
   "metadata": {
    "execution": {
     "iopub.execute_input": "2022-11-14T20:11:06.556677Z",
     "iopub.status.busy": "2022-11-14T20:11:06.556250Z",
     "iopub.status.idle": "2022-11-14T20:11:06.563888Z",
     "shell.execute_reply": "2022-11-14T20:11:06.562442Z"
    },
    "papermill": {
     "duration": 0.015856,
     "end_time": "2022-11-14T20:11:06.566439",
     "exception": false,
     "start_time": "2022-11-14T20:11:06.550583",
     "status": "completed"
    },
    "tags": []
   },
   "outputs": [
    {
     "data": {
      "text/plain": [
       "(784,)"
      ]
     },
     "execution_count": 5,
     "metadata": {},
     "output_type": "execute_result"
    }
   ],
   "source": [
    "X_train[:,0].shape"
   ]
  },
  {
   "cell_type": "code",
   "execution_count": 6,
   "id": "214d45d8",
   "metadata": {
    "execution": {
     "iopub.execute_input": "2022-11-14T20:11:06.577095Z",
     "iopub.status.busy": "2022-11-14T20:11:06.576041Z",
     "iopub.status.idle": "2022-11-14T20:11:06.590924Z",
     "shell.execute_reply": "2022-11-14T20:11:06.589919Z"
    },
    "papermill": {
     "duration": 0.022971,
     "end_time": "2022-11-14T20:11:06.593640",
     "exception": false,
     "start_time": "2022-11-14T20:11:06.570669",
     "status": "completed"
    },
    "tags": []
   },
   "outputs": [],
   "source": [
    "def init_params():\n",
    "    W1 = np.random.rand(10, 784) - 0.5\n",
    "    b1 = np.random.rand(10, 1) - 0.5\n",
    "    W2 = np.random.rand(10, 10) - 0.5\n",
    "    b2 = np.random.rand(10, 1) - 0.5\n",
    "    return W1, b1, W2, b2\n",
    "\n",
    "def ReLU(Z):\n",
    "    return np.maximum(Z, 0)\n",
    "\n",
    "def softmax(Z):\n",
    "    A = np.exp(Z) / sum(np.exp(Z))\n",
    "    return A\n",
    "    \n",
    "def forward_prop(W1, b1, W2, b2, X):\n",
    "    Z1 = W1.dot(X) + b1\n",
    "    A1 = ReLU(Z1)\n",
    "    Z2 = W2.dot(A1) + b2\n",
    "    A2 = softmax(Z2)\n",
    "    return Z1, A1, Z2, A2\n",
    "\n",
    "def ReLU_deriv(Z):\n",
    "    return Z > 0\n",
    "\n",
    "def one_hot(Y):\n",
    "    one_hot_Y = np.zeros((Y.size, Y.max() + 1))\n",
    "    one_hot_Y[np.arange(Y.size), Y] = 1\n",
    "    one_hot_Y = one_hot_Y.T\n",
    "    return one_hot_Y\n",
    "\n",
    "def backward_prop(Z1, A1, Z2, A2, W1, W2, X, Y):\n",
    "    one_hot_Y = one_hot(Y)\n",
    "    dZ2 = A2 - one_hot_Y\n",
    "    dW2 = 1 / m * dZ2.dot(A1.T)\n",
    "    db2 = 1 / m * np.sum(dZ2)\n",
    "    dZ1 = W2.T.dot(dZ2) * ReLU_deriv(Z1)\n",
    "    dW1 = 1 / m * dZ1.dot(X.T)\n",
    "    db1 = 1 / m * np.sum(dZ1)\n",
    "    return dW1, db1, dW2, db2\n",
    "\n",
    "def update_params(W1, b1, W2, b2, dW1, db1, dW2, db2, alpha):\n",
    "    W1 = W1 - alpha * dW1\n",
    "    b1 = b1 - alpha * db1    \n",
    "    W2 = W2 - alpha * dW2  \n",
    "    b2 = b2 - alpha * db2    \n",
    "    return W1, b1, W2, b2"
   ]
  },
  {
   "cell_type": "code",
   "execution_count": 7,
   "id": "28e6c58e",
   "metadata": {
    "execution": {
     "iopub.execute_input": "2022-11-14T20:11:06.605055Z",
     "iopub.status.busy": "2022-11-14T20:11:06.604690Z",
     "iopub.status.idle": "2022-11-14T20:11:06.613899Z",
     "shell.execute_reply": "2022-11-14T20:11:06.612544Z"
    },
    "papermill": {
     "duration": 0.016945,
     "end_time": "2022-11-14T20:11:06.616185",
     "exception": false,
     "start_time": "2022-11-14T20:11:06.599240",
     "status": "completed"
    },
    "tags": []
   },
   "outputs": [],
   "source": [
    "def get_predictions(A2):\n",
    "    return np.argmax(A2, 0)\n",
    "\n",
    "def get_accuracy(predictions, Y):\n",
    "    print(predictions, Y)\n",
    "    return np.sum(predictions == Y) / Y.size\n",
    "\n",
    "def gradient_descent(X, Y, alpha, iterations):\n",
    "    W1, b1, W2, b2 = init_params()\n",
    "    for i in range(iterations):\n",
    "        Z1, A1, Z2, A2 = forward_prop(W1, b1, W2, b2, X)\n",
    "        dW1, db1, dW2, db2 = backward_prop(Z1, A1, Z2, A2, W1, W2, X, Y)\n",
    "        W1, b1, W2, b2 = update_params(W1, b1, W2, b2, dW1, db1, dW2, db2, alpha)\n",
    "        if i % 10 == 0:\n",
    "            print(\"Iteration: \", i)\n",
    "            predictions = get_predictions(A2)\n",
    "            print(get_accuracy(predictions, Y))\n",
    "    return W1, b1, W2, b2"
   ]
  },
  {
   "cell_type": "code",
   "execution_count": 8,
   "id": "e2a8b30f",
   "metadata": {
    "execution": {
     "iopub.execute_input": "2022-11-14T20:11:06.625819Z",
     "iopub.status.busy": "2022-11-14T20:11:06.625451Z",
     "iopub.status.idle": "2022-11-14T20:12:19.216659Z",
     "shell.execute_reply": "2022-11-14T20:12:19.215069Z"
    },
    "papermill": {
     "duration": 72.600977,
     "end_time": "2022-11-14T20:12:19.221213",
     "exception": false,
     "start_time": "2022-11-14T20:11:06.620236",
     "status": "completed"
    },
    "tags": []
   },
   "outputs": [
    {
     "name": "stdout",
     "output_type": "stream",
     "text": [
      "Iteration:  0\n",
      "[9 9 9 ... 9 9 6] [0 6 7 ... 0 6 7]\n",
      "0.10302439024390243\n",
      "Iteration:  10\n",
      "[1 0 6 ... 9 1 6] [0 6 7 ... 0 6 7]\n",
      "0.17712195121951219\n",
      "Iteration:  20\n",
      "[0 0 7 ... 9 1 7] [0 6 7 ... 0 6 7]\n",
      "0.258609756097561\n",
      "Iteration:  30\n",
      "[0 0 7 ... 9 0 7] [0 6 7 ... 0 6 7]\n",
      "0.3164878048780488\n",
      "Iteration:  40\n",
      "[0 0 4 ... 8 0 7] [0 6 7 ... 0 6 7]\n",
      "0.3689512195121951\n",
      "Iteration:  50\n",
      "[0 0 7 ... 8 1 7] [0 6 7 ... 0 6 7]\n",
      "0.42392682926829267\n",
      "Iteration:  60\n",
      "[0 0 7 ... 8 1 7] [0 6 7 ... 0 6 7]\n",
      "0.4796341463414634\n",
      "Iteration:  70\n",
      "[0 0 7 ... 8 1 7] [0 6 7 ... 0 6 7]\n",
      "0.534219512195122\n",
      "Iteration:  80\n",
      "[0 0 7 ... 8 1 7] [0 6 7 ... 0 6 7]\n",
      "0.5837317073170731\n",
      "Iteration:  90\n",
      "[0 0 7 ... 0 1 7] [0 6 7 ... 0 6 7]\n",
      "0.6237560975609756\n",
      "Iteration:  100\n",
      "[0 0 7 ... 0 1 7] [0 6 7 ... 0 6 7]\n",
      "0.6548048780487805\n",
      "Iteration:  110\n",
      "[0 0 7 ... 0 1 7] [0 6 7 ... 0 6 7]\n",
      "0.6803902439024391\n",
      "Iteration:  120\n",
      "[0 0 7 ... 0 1 7] [0 6 7 ... 0 6 7]\n",
      "0.7005853658536585\n",
      "Iteration:  130\n",
      "[0 0 7 ... 0 1 7] [0 6 7 ... 0 6 7]\n",
      "0.7169024390243902\n",
      "Iteration:  140\n",
      "[0 0 7 ... 0 1 7] [0 6 7 ... 0 6 7]\n",
      "0.7310243902439024\n",
      "Iteration:  150\n",
      "[0 0 7 ... 0 1 7] [0 6 7 ... 0 6 7]\n",
      "0.744219512195122\n",
      "Iteration:  160\n",
      "[0 6 7 ... 0 1 7] [0 6 7 ... 0 6 7]\n",
      "0.755\n",
      "Iteration:  170\n",
      "[0 6 7 ... 0 1 7] [0 6 7 ... 0 6 7]\n",
      "0.763609756097561\n",
      "Iteration:  180\n",
      "[0 6 7 ... 0 1 7] [0 6 7 ... 0 6 7]\n",
      "0.772219512195122\n",
      "Iteration:  190\n",
      "[0 6 7 ... 0 1 7] [0 6 7 ... 0 6 7]\n",
      "0.7783414634146342\n",
      "Iteration:  200\n",
      "[0 6 7 ... 0 1 7] [0 6 7 ... 0 6 7]\n",
      "0.7847073170731708\n",
      "Iteration:  210\n",
      "[0 6 7 ... 0 1 7] [0 6 7 ... 0 6 7]\n",
      "0.7901463414634147\n",
      "Iteration:  220\n",
      "[0 6 7 ... 0 1 7] [0 6 7 ... 0 6 7]\n",
      "0.7944878048780488\n",
      "Iteration:  230\n",
      "[0 6 7 ... 0 6 7] [0 6 7 ... 0 6 7]\n",
      "0.799\n",
      "Iteration:  240\n",
      "[0 6 7 ... 0 6 7] [0 6 7 ... 0 6 7]\n",
      "0.8036341463414635\n",
      "Iteration:  250\n",
      "[0 6 7 ... 0 6 7] [0 6 7 ... 0 6 7]\n",
      "0.8074634146341464\n",
      "Iteration:  260\n",
      "[0 6 7 ... 0 6 7] [0 6 7 ... 0 6 7]\n",
      "0.8117560975609757\n",
      "Iteration:  270\n",
      "[0 6 7 ... 0 6 7] [0 6 7 ... 0 6 7]\n",
      "0.815\n",
      "Iteration:  280\n",
      "[0 6 7 ... 0 6 7] [0 6 7 ... 0 6 7]\n",
      "0.8180487804878048\n",
      "Iteration:  290\n",
      "[0 6 7 ... 0 6 7] [0 6 7 ... 0 6 7]\n",
      "0.8212195121951219\n",
      "Iteration:  300\n",
      "[0 6 7 ... 0 6 7] [0 6 7 ... 0 6 7]\n",
      "0.8241219512195121\n",
      "Iteration:  310\n",
      "[0 6 7 ... 0 6 7] [0 6 7 ... 0 6 7]\n",
      "0.8264878048780487\n",
      "Iteration:  320\n",
      "[0 6 7 ... 0 6 7] [0 6 7 ... 0 6 7]\n",
      "0.8286585365853658\n",
      "Iteration:  330\n",
      "[0 6 7 ... 0 6 7] [0 6 7 ... 0 6 7]\n",
      "0.830780487804878\n",
      "Iteration:  340\n",
      "[0 6 7 ... 0 6 7] [0 6 7 ... 0 6 7]\n",
      "0.8328536585365853\n",
      "Iteration:  350\n",
      "[0 6 7 ... 0 6 7] [0 6 7 ... 0 6 7]\n",
      "0.835170731707317\n",
      "Iteration:  360\n",
      "[0 6 7 ... 0 6 7] [0 6 7 ... 0 6 7]\n",
      "0.8371463414634146\n",
      "Iteration:  370\n",
      "[0 6 7 ... 0 6 7] [0 6 7 ... 0 6 7]\n",
      "0.8390975609756097\n",
      "Iteration:  380\n",
      "[0 6 7 ... 0 6 7] [0 6 7 ... 0 6 7]\n",
      "0.8406585365853658\n",
      "Iteration:  390\n",
      "[0 6 7 ... 0 6 7] [0 6 7 ... 0 6 7]\n",
      "0.8420975609756097\n",
      "Iteration:  400\n",
      "[0 6 7 ... 0 6 7] [0 6 7 ... 0 6 7]\n",
      "0.8438292682926829\n",
      "Iteration:  410\n",
      "[0 6 7 ... 0 6 7] [0 6 7 ... 0 6 7]\n",
      "0.8454878048780488\n",
      "Iteration:  420\n",
      "[0 6 7 ... 0 6 7] [0 6 7 ... 0 6 7]\n",
      "0.8468048780487805\n",
      "Iteration:  430\n",
      "[0 6 7 ... 0 6 7] [0 6 7 ... 0 6 7]\n",
      "0.8479024390243902\n",
      "Iteration:  440\n",
      "[0 6 7 ... 0 6 7] [0 6 7 ... 0 6 7]\n",
      "0.8490487804878049\n",
      "Iteration:  450\n",
      "[0 6 7 ... 0 6 7] [0 6 7 ... 0 6 7]\n",
      "0.8500487804878049\n",
      "Iteration:  460\n",
      "[0 6 7 ... 0 6 7] [0 6 7 ... 0 6 7]\n",
      "0.8509268292682927\n",
      "Iteration:  470\n",
      "[0 6 7 ... 0 6 7] [0 6 7 ... 0 6 7]\n",
      "0.8524390243902439\n",
      "Iteration:  480\n",
      "[0 6 7 ... 0 6 7] [0 6 7 ... 0 6 7]\n",
      "0.8536829268292683\n",
      "Iteration:  490\n",
      "[0 6 7 ... 0 6 7] [0 6 7 ... 0 6 7]\n",
      "0.8547560975609756\n"
     ]
    }
   ],
   "source": [
    "W1, b1, W2, b2 = gradient_descent(X_train, Y_train, 0.10, 500)"
   ]
  },
  {
   "cell_type": "code",
   "execution_count": 9,
   "id": "f8cd8ff8",
   "metadata": {
    "execution": {
     "iopub.execute_input": "2022-11-14T20:12:19.260169Z",
     "iopub.status.busy": "2022-11-14T20:12:19.259437Z",
     "iopub.status.idle": "2022-11-14T20:12:19.278544Z",
     "shell.execute_reply": "2022-11-14T20:12:19.277028Z"
    },
    "papermill": {
     "duration": 0.043355,
     "end_time": "2022-11-14T20:12:19.283478",
     "exception": false,
     "start_time": "2022-11-14T20:12:19.240123",
     "status": "completed"
    },
    "tags": []
   },
   "outputs": [],
   "source": [
    "def make_predictions(X, W1, b1, W2, b2):\n",
    "    _, _, _, A2 = forward_prop(W1, b1, W2, b2, X)\n",
    "    predictions = get_predictions(A2)\n",
    "    return predictions\n",
    "\n",
    "def test_prediction(index, W1, b1, W2, b2):\n",
    "    current_image = X_train[:, index, None]\n",
    "    prediction = make_predictions(X_train[:, index, None], W1, b1, W2, b2)\n",
    "    label = Y_train[index]\n",
    "    print(\"Prediction: \", prediction)\n",
    "    print(\"Label: \", label)\n",
    "    \n",
    "    current_image = current_image.reshape((28, 28)) * 255\n",
    "    plt.gray()\n",
    "    plt.imshow(current_image, interpolation='nearest')\n",
    "    plt.show()"
   ]
  },
  {
   "cell_type": "code",
   "execution_count": 10,
   "id": "4b4df09a",
   "metadata": {
    "execution": {
     "iopub.execute_input": "2022-11-14T20:12:19.323341Z",
     "iopub.status.busy": "2022-11-14T20:12:19.322665Z",
     "iopub.status.idle": "2022-11-14T20:12:20.090089Z",
     "shell.execute_reply": "2022-11-14T20:12:20.088735Z"
    },
    "papermill": {
     "duration": 0.789635,
     "end_time": "2022-11-14T20:12:20.092748",
     "exception": false,
     "start_time": "2022-11-14T20:12:19.303113",
     "status": "completed"
    },
    "tags": []
   },
   "outputs": [
    {
     "name": "stdout",
     "output_type": "stream",
     "text": [
      "Prediction:  [0]\n",
      "Label:  0\n"
     ]
    },
    {
     "data": {
      "image/png": "[encoded data removed]",
      "text/plain": [
       "<Figure size 432x288 with 1 Axes>"
      ]
     },
     "metadata": {
      "needs_background": "light"
     },
     "output_type": "display_data"
    },
    {
     "name": "stdout",
     "output_type": "stream",
     "text": [
      "Prediction:  [6]\n",
      "Label:  6\n"
     ]
    },
    {
     "data": {
      "image/png": "[encoded data removed]",
      "text/plain": [
       "<Figure size 432x288 with 1 Axes>"
      ]
     },
     "metadata": {
      "needs_background": "light"
     },
     "output_type": "display_data"
    },
    {
     "name": "stdout",
     "output_type": "stream",
     "text": [
      "Prediction:  [7]\n",
      "Label:  7\n"
     ]
    },
    {
     "data": {
      "image/png": "[encoded data removed]",
      "text/plain": [
       "<Figure size 432x288 with 1 Axes>"
      ]
     },
     "metadata": {
      "needs_background": "light"
     },
     "output_type": "display_data"
    },
    {
     "name": "stdout",
     "output_type": "stream",
     "text": [
      "Prediction:  [0]\n",
      "Label:  5\n"
     ]
    },
    {
     "data": {
      "image/png": "[encoded data removed]",
      "text/plain": [
       "<Figure size 432x288 with 1 Axes>"
      ]
     },
     "metadata": {
      "needs_background": "light"
     },
     "output_type": "display_data"
    }
   ],
   "source": [
    "test_prediction(0, W1, b1, W2, b2)\n",
    "test_prediction(1, W1, b1, W2, b2)\n",
    "test_prediction(2, W1, b1, W2, b2)\n",
    "test_prediction(3, W1, b1, W2, b2)"
   ]
  },
  {
   "cell_type": "code",
   "execution_count": 11,
   "id": "cb60bd1b",
   "metadata": {
    "execution": {
     "iopub.execute_input": "2022-11-14T20:12:20.111084Z",
     "iopub.status.busy": "2022-11-14T20:12:20.110683Z",
     "iopub.status.idle": "2022-11-14T20:12:20.141242Z",
     "shell.execute_reply": "2022-11-14T20:12:20.139910Z"
    },
    "papermill": {
     "duration": 0.046424,
     "end_time": "2022-11-14T20:12:20.147548",
     "exception": false,
     "start_time": "2022-11-14T20:12:20.101124",
     "status": "completed"
    },
    "tags": []
   },
   "outputs": [
    {
     "name": "stdout",
     "output_type": "stream",
     "text": [
      "[5 4 6 6 8 0 1 4 0 0 2 3 4 8 2 3 6 1 3 8 3 2 3 3 2 9 1 6 4 0 4 5 6 1 8 2 6\n",
      " 5 6 6 8 3 0 9 2 4 2 0 3 5 5 3 7 9 6 8 4 3 1 0 3 7 3 3 6 3 1 2 8 4 5 1 4 9\n",
      " 4 0 0 2 0 2 7 2 4 8 2 9 3 6 1 5 2 9 5 3 7 8 7 9 2 7 8 2 1 8 4 5 3 1 6 5 3\n",
      " 1 7 7 6 2 2 6 3 3 4 2 4 7 4 0 4 4 6 5 1 4 6 6 3 4 7 1 2 3 6 9 0 5 1 7 6 5\n",
      " 1 4 1 3 3 4 3 2 3 4 1 5 3 3 5 3 6 2 4 3 3 9 1 9 4 0 8 1 7 0 2 3 9 3 3 5 6\n",
      " 4 8 6 1 4 8 8 8 8 3 2 6 1 3 4 8 3 3 6 4 5 8 0 2 1 6 1 4 8 5 9 0 6 5 4 0 7\n",
      " 3 6 2 0 7 4 4 1 3 5 1 9 0 3 5 8 4 3 0 3 3 4 1 2 6 1 7 0 6 6 8 5 8 0 6 5 5\n",
      " 6 9 9 1 8 4 2 1 3 5 0 5 2 8 0 1 6 7 5 2 1 7 7 7 6 4 7 6 2 9 5 7 6 3 4 1 9\n",
      " 2 9 9 6 9 1 5 0 9 4 1 0 5 8 2 6 4 8 8 3 5 6 7 4 1 2 6 1 7 3 8 9 4 5 6 2 1\n",
      " 2 6 7 8 5 7 1 1 1 9 5 3 7 9 6 2 7 4 1 3 7 6 2 8 5 7 6 0 6 6 8 7 9 0 7 4 4\n",
      " 0 5 3 5 9 4 1 5 7 7 3 8 4 1 8 5 3 6 2 2 6 0 0 8 0 6 5 0 2 7 8 6 9 6 8 6 7\n",
      " 7 6 3 8 2 0 0 5 7 2 8 5 1 0 1 8 4 9 6 9 1 2 7 1 7 0 1 0 8 1 9 7 8 8 1 1 0\n",
      " 9 1 6 1 9 2 5 5 9 7 8 1 1 4 1 7 4 1 9 3 3 4 9 1 3 8 0 7 4 4 6 9 9 4 0 3 3\n",
      " 1 0 9 5 6 1 5 6 5 2 7 8 6 8 7 9 1 2 3 2 3 5 0 9 2 6 3 4 3 8 6 0 3 2 9 0 4\n",
      " 2 1 7 9 0 3 8 3 1 7 7 5 3 5 1 9 8 5 4 6 3 0 7 8 7 4 7 4 0 5 9 0 7 5 8 2 9\n",
      " 9 9 9 7 5 7 7 0 3 0 8 9 1 7 0 6 6 3 5 4 1 6 9 5 2 5 4 5 2 4 2 7 2 8 7 2 1\n",
      " 7 8 3 3 6 6 0 6 3 2 5 9 8 2 5 8 3 6 3 6 2 1 0 3 4 0 9 8 8 1 3 1 8 6 3 5 3\n",
      " 9 8 0 1 6 9 0 5 3 4 2 6 8 6 2 2 5 8 4 2 2 1 3 9 1 1 7 9 8 5 2 1 0 0 8 4 8\n",
      " 4 1 7 2 8 1 5 9 6 7 6 4 9 5 4 8 4 9 9 3 7 1 2 8 8 1 5 0 4 7 2 2 0 3 1 6 9\n",
      " 9 4 0 7 7 9 6 7 7 7 4 1 6 2 4 2 6 6 1 1 3 5 4 5 2 8 3 0 8 8 7 3 1 0 6 4 6\n",
      " 3 8 3 7 4 0 5 6 8 3 2 6 4 6 6 9 2 4 2 8 1 1 1 9 8 2 1 7 3 0 2 6 1 2 9 9 8\n",
      " 1 9 1 6 0 1 4 8 9 0 3 9 8 6 5 9 5 5 0 2 4 7 1 2 0 0 5 3 8 8 6 3 4 1 3 2 5\n",
      " 3 5 8 8 0 1 3 7 5 2 6 5 4 0 7 3 8 4 2 5 9 4 7 6 0 3 8 9 7 3 2 3 9 8 5 3 6\n",
      " 7 1 7 6 1 1 9 1 8 2 0 5 7 7 2 7 7 3 3 1 3 3 9 3 2 6 9 8 4 7 4 6 9 0 9 1 3\n",
      " 9 9 5 4 6 6 7 3 7 0 2 2 1 8 9 7 7 3 4 8 7 9 0 0 2 6 2 1 2 1 1 6 2 6 8 5 6\n",
      " 6 8 9 7 5 9 9 0 7 9 9 5 8 5 6 4 1 5 4 2 4 8 6 8 6 4 0 8 1 9 6 8 5 2 9 0 9\n",
      " 2 9 4 6 0 8 8 1 1 1 5 9 4 1 0 3 7 3 8 5 9 0 8 8 8 6 5 2 1 9 7 5 3 7 4 3 0\n",
      " 7] [5 4 6 6 8 0 1 4 0 0 0 3 4 8 2 3 6 1 3 8 7 2 3 3 2 9 1 6 4 0 4 5 6 1 8 3 6\n",
      " 5 4 6 8 2 0 9 2 4 2 0 3 5 5 3 7 9 6 8 4 3 1 0 3 7 3 3 6 3 1 2 9 7 5 1 4 4\n",
      " 4 0 0 2 0 2 7 2 4 1 2 9 3 6 1 5 2 9 5 3 7 8 7 5 2 7 8 7 1 8 4 5 3 1 6 5 2\n",
      " 1 7 2 6 2 2 6 3 3 9 2 4 7 4 0 4 4 4 5 1 4 6 6 3 4 7 1 9 3 6 9 0 5 1 7 6 5\n",
      " 1 4 5 3 3 7 3 2 8 4 1 5 3 3 5 9 6 2 4 3 3 9 1 9 4 0 5 1 7 0 4 3 9 3 3 5 6\n",
      " 4 8 6 1 4 8 8 8 8 5 2 6 1 3 9 8 3 5 6 4 5 8 0 2 1 4 7 4 1 3 4 0 6 5 4 0 7\n",
      " 3 6 2 0 7 9 4 1 3 5 5 9 0 8 5 8 4 3 5 3 3 4 1 2 6 1 7 6 6 6 8 5 8 3 6 5 6\n",
      " 6 4 9 1 8 4 2 1 3 5 0 5 2 8 0 1 0 7 5 2 1 7 7 7 6 9 7 6 2 9 5 7 6 3 4 1 9\n",
      " 2 9 9 3 9 8 5 0 9 4 1 0 5 2 2 6 4 8 8 3 5 6 7 4 1 2 6 1 7 3 8 9 6 5 6 2 1\n",
      " 3 5 7 8 5 7 1 1 5 9 5 3 7 9 6 2 7 4 1 3 7 6 2 8 5 7 6 0 5 2 2 7 9 0 7 4 4\n",
      " 0 5 3 5 4 4 1 5 9 7 3 8 4 1 2 5 3 6 4 2 6 0 0 8 0 6 5 0 2 7 8 6 9 9 8 6 9\n",
      " 9 6 3 8 2 0 0 5 7 2 8 5 9 0 1 8 4 9 6 9 1 2 7 1 7 0 1 0 1 1 4 7 3 8 1 1 0\n",
      " 9 1 6 1 9 2 5 5 9 7 5 5 1 4 1 9 9 1 9 3 5 4 9 1 3 8 0 7 4 4 6 4 9 4 0 5 2\n",
      " 1 0 9 5 6 1 5 6 5 2 7 8 6 8 7 7 1 2 3 2 3 5 0 4 2 6 5 4 2 8 6 0 3 3 4 0 4\n",
      " 0 1 7 9 0 3 9 8 1 7 7 1 5 5 1 9 0 5 4 6 5 0 7 9 9 4 7 4 0 5 7 0 7 5 8 2 7\n",
      " 9 8 9 7 5 5 1 0 3 0 4 7 1 7 5 6 6 3 5 4 1 6 3 0 8 8 4 9 2 4 2 7 2 8 7 2 1\n",
      " 9 8 3 3 6 4 0 6 3 2 5 9 8 2 5 8 3 5 3 2 2 1 0 3 4 0 7 8 8 1 3 1 8 6 3 5 5\n",
      " 9 8 0 1 6 5 0 5 3 4 2 6 8 6 3 2 5 8 4 2 6 1 3 9 1 1 7 9 8 5 2 1 0 0 8 4 8\n",
      " 4 1 7 2 8 1 5 9 6 7 6 4 8 5 4 8 4 9 7 3 7 1 2 8 8 1 5 0 4 7 2 2 0 3 1 6 5\n",
      " 9 4 0 7 7 9 6 7 7 7 4 7 6 2 4 8 6 6 1 1 3 5 4 5 9 8 3 0 8 8 7 3 1 0 6 4 6\n",
      " 3 8 3 7 4 0 5 6 8 3 2 6 9 6 6 9 2 4 3 8 1 1 1 4 8 2 1 7 3 9 2 0 7 2 9 9 8\n",
      " 1 9 1 6 0 1 4 8 8 0 8 9 8 6 5 4 1 5 3 2 9 7 1 2 0 9 5 3 8 0 6 3 8 1 8 3 5\n",
      " 8 8 8 8 0 1 3 7 5 2 4 5 8 0 7 3 8 4 3 5 9 4 7 6 6 3 8 5 7 3 2 9 9 8 6 3 6\n",
      " 7 1 7 6 1 1 9 1 8 2 0 5 7 7 2 7 7 3 3 1 3 3 7 3 2 6 9 8 4 7 9 6 3 0 9 1 3\n",
      " 9 9 5 4 6 6 7 3 1 0 2 2 1 8 9 7 7 3 4 8 7 9 0 0 5 6 7 1 2 1 1 6 2 6 8 5 6\n",
      " 6 8 9 7 5 9 9 0 7 9 9 5 8 8 6 4 1 5 9 2 4 8 6 8 6 4 0 8 1 9 6 8 5 2 4 0 9\n",
      " 2 9 4 6 0 1 8 1 3 1 5 9 9 1 0 3 7 8 8 0 7 0 8 8 8 6 8 7 1 9 7 5 3 7 4 3 0\n",
      " 7]\n"
     ]
    },
    {
     "data": {
      "text/plain": [
       "0.845"
      ]
     },
     "execution_count": 11,
     "metadata": {},
     "output_type": "execute_result"
    }
   ],
   "source": [
    "dev_predictions = make_predictions(X_dev, W1, b1, W2, b2)\n",
    "get_accuracy(dev_predictions, Y_dev)"
   ]
  }
 ],
 "metadata": {
  "kernelspec": {
   "display_name": "Python 3",
   "language": "python",
   "name": "python3"
  },
  "language_info": {
   "codemirror_mode": {
    "name": "ipython",
    "version": 3
   },
   "file_extension": ".py",
   "mimetype": "text/x-python",
   "name": "python",
   "nbconvert_exporter": "python",
   "pygments_lexer": "ipython3",
   "version": "3.7.12"
  },
  "papermill": {
   "default_parameters": {},
   "duration": 88.202056,
   "end_time": "2022-11-14T20:12:20.898252",
   "environment_variables": {},
   "exception": null,
   "input_path": "__notebook__.ipynb",
   "output_path": "__notebook__.ipynb",
   "parameters": {},
   "start_time": "2022-11-14T20:10:52.696196",
   "version": "2.3.4"
  }
 },
 "nbformat": 4,
 "nbformat_minor": 5
}
